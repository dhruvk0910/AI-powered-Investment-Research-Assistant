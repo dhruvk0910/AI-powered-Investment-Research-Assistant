{
 "cells": [
  {
   "cell_type": "markdown",
   "metadata": {},
   "source": [
    "AI powered Investment Assistant "
   ]
  },
  {
   "cell_type": "code",
   "execution_count": null,
   "metadata": {},
   "outputs": [
    {
     "name": "stdout",
     "output_type": "stream",
     "text": [
      "{'c': 239.07, 'd': 3.74, 'dp': 1.5893, 'h': 241.37, 'l': 234.76, 'o': 235.105, 'pc': 235.33, 't': 1741467600}\n"
     ]
    }
   ],
   "source": [
    "import finnhub  \n",
    "\n",
    "finnhub_client = finnhub.Client(api_key=\"cv6loq9r01qi7f6qvhqgcv6loq9r01qi7f6qvhr0\")  \n",
    "quote = finnhub_client.quote('AAPL')  \n",
    "print(quote)"
   ]
  },
  {
   "cell_type": "code",
   "execution_count": 2,
   "metadata": {},
   "outputs": [
    {
     "name": "stdout",
     "output_type": "stream",
     "text": [
      "                                 Open        High         Low       Close  \\\n",
      "Date                                                                        \n",
      "2024-03-08 00:00:00-05:00  168.205762  172.883671  168.146047  169.927628   \n",
      "2024-03-11 00:00:00-04:00  172.127250  173.560485  171.241434  171.938141   \n",
      "2024-03-12 00:00:00-04:00  172.336252  173.212122  170.206310  172.415878   \n",
      "2024-03-13 00:00:00-04:00  171.958052  172.376076  169.957488  170.325760   \n",
      "2024-03-14 00:00:00-04:00  172.097393  173.490807  171.241434  172.186966   \n",
      "\n",
      "                             Volume  Dividends  Stock Splits  \n",
      "Date                                                          \n",
      "2024-03-08 00:00:00-05:00  76114600        0.0           0.0  \n",
      "2024-03-11 00:00:00-04:00  60139500        0.0           0.0  \n",
      "2024-03-12 00:00:00-04:00  59825400        0.0           0.0  \n",
      "2024-03-13 00:00:00-04:00  52488700        0.0           0.0  \n",
      "2024-03-14 00:00:00-04:00  72913500        0.0           0.0  \n"
     ]
    }
   ],
   "source": [
    "import yfinance as yf  \n",
    "\n",
    "stock = yf.Ticker(\"AAPL\")  \n",
    "hist = stock.history(period=\"1y\") \n",
    "print(hist.head())  "
   ]
  },
  {
   "cell_type": "code",
   "execution_count": null,
   "metadata": {},
   "outputs": [
    {
     "name": "stdout",
     "output_type": "stream",
     "text": [
      "✅ Historical data stored in MySQL!\n"
     ]
    }
   ],
   "source": [
    "import mysql.connector\n",
    "\n",
    "\n",
    "conn = mysql.connector.connect(\n",
    "    host=\"localhost\",\n",
    "    user=\"root\",\n",
    "    password=\"pass\",\n",
    "    database=\"market_data\"\n",
    ")\n",
    "cursor = conn.cursor()\n",
    "\n",
    "symbol = \"AAPL\"\n",
    "stock = yf.Ticker(symbol)\n",
    "hist = stock.history(period=\"1y\")\n",
    "\n",
    "for index, row in hist.iterrows():\n",
    "    cursor.execute(\"\"\"\n",
    "        INSERT INTO stocks (symbol, date, open, high, low, close, volume)\n",
    "        VALUES (%s, %s, %s, %s, %s, %s, %s)\n",
    "    \"\"\", (symbol, index.date(), row[\"Open\"], row[\"High\"], row[\"Low\"], row[\"Close\"], row[\"Volume\"]))\n",
    "\n",
    "conn.commit()\n",
    "conn.close()\n",
    "\n",
    "print(\"✅ Historical data stored in MySQL!\")"
   ]
  },
  {
   "cell_type": "code",
   "execution_count": null,
   "metadata": {},
   "outputs": [
    {
     "name": "stdout",
     "output_type": "stream",
     "text": [
      "✅ Real-time stocks table created!\n"
     ]
    }
   ],
   "source": [
    "conn = mysql.connector.connect(\n",
    "    host=\"localhost\",\n",
    "    user=\"root\",\n",
    "    password=\"pass\",\n",
    "    database=\"market_data\"\n",
    ")\n",
    "cursor = conn.cursor()\n",
    "\n",
    "cursor.execute(\"\"\"\n",
    "    CREATE TABLE IF NOT EXISTS real_time_stocks (\n",
    "        id INT AUTO_INCREMENT PRIMARY KEY,\n",
    "        symbol VARCHAR(10),\n",
    "        timestamp DATETIME DEFAULT CURRENT_TIMESTAMP,\n",
    "        open FLOAT,\n",
    "        high FLOAT,\n",
    "        low FLOAT,\n",
    "        current_price FLOAT,\n",
    "        previous_close FLOAT,\n",
    "        volume BIGINT\n",
    "    )\n",
    "\"\"\")\n",
    "conn.commit()\n",
    "conn.close()\n",
    "\n",
    "print(\"✅ Real-time stocks table created!\")\n"
   ]
  },
  {
   "cell_type": "code",
   "execution_count": null,
   "metadata": {},
   "outputs": [
    {
     "name": "stdout",
     "output_type": "stream",
     "text": [
      "{'c': 239.07, 'd': 3.74, 'dp': 1.5893, 'h': 241.37, 'l': 234.76, 'o': 235.105, 'pc': 235.33, 't': 1741467600}\n"
     ]
    }
   ],
   "source": [
    "from datetime import datetime\n",
    "\n",
    "finnhub_client = finnhub.Client(api_key=\"api_key\")  # Replace with your API key\n",
    "\n",
    "conn = mysql.connector.connect(\n",
    "    host=\"localhost\",\n",
    "    user=\"root\",\n",
    "    password=\"pass\",\n",
    "    database=\"market_data\"\n",
    ")\n",
    "cursor = conn.cursor()\n",
    "\n",
    "symbol = \"AAPL\"\n",
    "quote = finnhub_client.quote(symbol)\n",
    "print(quote)\n"
   ]
  },
  {
   "cell_type": "code",
   "execution_count": null,
   "metadata": {},
   "outputs": [],
   "source": [
    "cursor.execute(\"\"\"\n",
    "    INSERT INTO real_time_stocks (symbol, open, high, low, current_price, previous_close, volume)\n",
    "    VALUES (%s, %s, %s, %s, %s, %s, %s)\n",
    "\"\"\", (\n",
    "    symbol,\n",
    "    quote.get(\"o\", 0),  \n",
    "    quote.get(\"h\", 0),\n",
    "    quote.get(\"l\", 0),\n",
    "    quote.get(\"c\", 0),\n",
    "    quote.get(\"pc\", 0),\n",
    "    quote.get(\"v\", 0)  \n",
    "))\n"
   ]
  },
  {
   "cell_type": "code",
   "execution_count": 13,
   "metadata": {},
   "outputs": [
    {
     "name": "stdout",
     "output_type": "stream",
     "text": [
      "{'c': 239.07, 'd': 3.74, 'dp': 1.5893, 'h': 241.37, 'l': 234.76, 'o': 235.105, 'pc': 235.33, 't': 1741467600}\n"
     ]
    }
   ],
   "source": [
    "print(quote)"
   ]
  },
  {
   "cell_type": "code",
   "execution_count": null,
   "metadata": {},
   "outputs": [
    {
     "name": "stdout",
     "output_type": "stream",
     "text": [
      "✅ Real-time stock data stored in MySQL!\n"
     ]
    }
   ],
   "source": [
    "import finnhub\n",
    "import yfinance as yf\n",
    "import mysql.connector\n",
    "\n",
    "\n",
    "finnhub_client = finnhub.Client(api_key=\"api_key\")  # Replace with your API key\n",
    "\n",
    "conn = mysql.connector.connect(\n",
    "    host=\"localhost\",\n",
    "    user=\"root\",\n",
    "    password=\"pass\",\n",
    "    database=\"market_data\"\n",
    ")\n",
    "cursor = conn.cursor()\n",
    "\n",
    "symbol = \"AAPL\"\n",
    "\n",
    "quote = finnhub_client.quote(symbol)\n",
    "\n",
    "stock = yf.Ticker(symbol)\n",
    "volume = int(stock.history(period=\"1d\")[\"Volume\"].iloc[-1])\n",
    "\n",
    "cursor.execute(\"\"\"\n",
    "    INSERT INTO real_time_stocks (symbol, open, high, low, current_price, previous_close, volume)\n",
    "    VALUES (%s, %s, %s, %s, %s, %s, %s)\n",
    "\"\"\", (\n",
    "    symbol,\n",
    "    quote.get(\"o\", 0),  \n",
    "    quote.get(\"h\", 0),  \n",
    "    quote.get(\"l\", 0),  \n",
    "    quote.get(\"c\", 0),  \n",
    "    quote.get(\"pc\", 0),  \n",
    "    volume  \n",
    "))\n",
    "\n",
    "conn.commit()\n",
    "conn.close()\n",
    "\n",
    "print(\"✅ Real-time stock data stored in MySQL!\")\n"
   ]
  },
  {
   "cell_type": "code",
   "execution_count": null,
   "metadata": {},
   "outputs": [],
   "source": []
  }
 ],
 "metadata": {
  "kernelspec": {
   "display_name": "Python 3",
   "language": "python",
   "name": "python3"
  },
  "language_info": {
   "codemirror_mode": {
    "name": "ipython",
    "version": 3
   },
   "file_extension": ".py",
   "mimetype": "text/x-python",
   "name": "python",
   "nbconvert_exporter": "python",
   "pygments_lexer": "ipython3",
   "version": "3.12.9"
  }
 },
 "nbformat": 4,
 "nbformat_minor": 2
}
